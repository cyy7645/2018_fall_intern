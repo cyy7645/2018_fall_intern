{
 "cells": [
  {
   "cell_type": "code",
   "execution_count": 26,
   "metadata": {},
   "outputs": [],
   "source": [
    "from keras.models import Sequential\n",
    "from keras.layers.recurrent import LSTM\n",
    "from keras.layers import Dense, Dropout, Activation\n",
    "import keras\n",
    "from keras import backend as K\n",
    "from datetime import datetime\n",
    "import pandas as pd\n",
    "import numpy as np\n",
    "import matplotlib.pylab as plt\n",
    "from pandas import DataFrame"
   ]
  },
  {
   "cell_type": "code",
   "execution_count": 27,
   "metadata": {},
   "outputs": [],
   "source": [
    "# 设置随机数，是结果可复现\n",
    "np.random.seed(42)\n",
    "from tensorflow import set_random_seed\n",
    "set_random_seed(2)\n",
    "import os\n",
    "os.environ['PYTHONHASHSEED'] = '0'\n",
    "import tensorflow as tf\n",
    "session_conf = tf.ConfigProto(intra_op_parallelism_threads=1, \n",
    "                              inter_op_parallelism_threads=1)\n",
    "tf.set_random_seed(1234)\n",
    "\n",
    "sess = tf.Session(graph=tf.get_default_graph(), config=session_conf)\n",
    "K.set_session(sess)"
   ]
  },
  {
   "cell_type": "code",
   "execution_count": 28,
   "metadata": {},
   "outputs": [],
   "source": [
    "# 设置图片大小\n",
    "from pylab import rcParams\n",
    "rcParams['figure.figsize'] = 20, 10"
   ]
  },
  {
   "cell_type": "code",
   "execution_count": 29,
   "metadata": {},
   "outputs": [],
   "source": [
    "import warnings\n",
    "warnings.filterwarnings(\"ignore\")"
   ]
  },
  {
   "cell_type": "code",
   "execution_count": 30,
   "metadata": {},
   "outputs": [],
   "source": [
    "# 对取对数的数据还原\n",
    "def restore_log(num_list):\n",
    "    for i in range(len(num_list)):\n",
    "        num_list[i] = np.exp(num_list[i])\n",
    "    return num_list"
   ]
  },
  {
   "cell_type": "code",
   "execution_count": 31,
   "metadata": {},
   "outputs": [
    {
     "data": {
      "text/html": [
       "<div>\n",
       "<style>\n",
       "    .dataframe thead tr:only-child th {\n",
       "        text-align: right;\n",
       "    }\n",
       "\n",
       "    .dataframe thead th {\n",
       "        text-align: left;\n",
       "    }\n",
       "\n",
       "    .dataframe tbody tr th {\n",
       "        vertical-align: top;\n",
       "    }\n",
       "</style>\n",
       "<table border=\"1\" class=\"dataframe\">\n",
       "  <thead>\n",
       "    <tr style=\"text-align: right;\">\n",
       "      <th></th>\n",
       "      <th>log_money</th>\n",
       "    </tr>\n",
       "    <tr>\n",
       "      <th>data</th>\n",
       "      <th></th>\n",
       "    </tr>\n",
       "  </thead>\n",
       "  <tbody>\n",
       "    <tr>\n",
       "      <th>2014-01-21</th>\n",
       "      <td>13.956315</td>\n",
       "    </tr>\n",
       "    <tr>\n",
       "      <th>2014-01-22</th>\n",
       "      <td>13.849960</td>\n",
       "    </tr>\n",
       "    <tr>\n",
       "      <th>2014-01-23</th>\n",
       "      <td>14.364614</td>\n",
       "    </tr>\n",
       "    <tr>\n",
       "      <th>2014-01-24</th>\n",
       "      <td>13.654755</td>\n",
       "    </tr>\n",
       "    <tr>\n",
       "      <th>2014-01-25</th>\n",
       "      <td>13.946363</td>\n",
       "    </tr>\n",
       "  </tbody>\n",
       "</table>\n",
       "</div>"
      ],
      "text/plain": [
       "            log_money\n",
       "data                 \n",
       "2014-01-21  13.956315\n",
       "2014-01-22  13.849960\n",
       "2014-01-23  14.364614\n",
       "2014-01-24  13.654755\n",
       "2014-01-25  13.946363"
      ]
     },
     "execution_count": 31,
     "metadata": {},
     "output_type": "execute_result"
    }
   ],
   "source": [
    "# 导入原始数据，用于还原一阶差分\n",
    "# 此时数据只进行了累加取log\n",
    "data = pd.read_csv('data/original_log_7529.csv', parse_dates = True, index_col=0)\n",
    "data = data[20:]\n",
    "data.head()"
   ]
  },
  {
   "cell_type": "markdown",
   "metadata": {},
   "source": [
    "测试集为[805:],所以需要的原始数组为[804:],这样对应位置相加就能还原为差分前的数列"
   ]
  },
  {
   "cell_type": "code",
   "execution_count": 32,
   "metadata": {},
   "outputs": [],
   "source": [
    "before_diff = data.log_money[804:]"
   ]
  },
  {
   "cell_type": "code",
   "execution_count": 41,
   "metadata": {},
   "outputs": [
    {
     "data": {
      "text/html": [
       "<div>\n",
       "<style>\n",
       "    .dataframe thead tr:only-child th {\n",
       "        text-align: right;\n",
       "    }\n",
       "\n",
       "    .dataframe thead th {\n",
       "        text-align: left;\n",
       "    }\n",
       "\n",
       "    .dataframe tbody tr th {\n",
       "        vertical-align: top;\n",
       "    }\n",
       "</style>\n",
       "<table border=\"1\" class=\"dataframe\">\n",
       "  <thead>\n",
       "    <tr style=\"text-align: right;\">\n",
       "      <th></th>\n",
       "      <th>count</th>\n",
       "      <th>week_number</th>\n",
       "      <th>weekday</th>\n",
       "      <th>is_quarter_end</th>\n",
       "      <th>holiday</th>\n",
       "      <th>var1(t-20)</th>\n",
       "      <th>var1(t-19)</th>\n",
       "      <th>var1(t-18)</th>\n",
       "      <th>var1(t-17)</th>\n",
       "      <th>var1(t-16)</th>\n",
       "      <th>...</th>\n",
       "      <th>var1(t-9)</th>\n",
       "      <th>var1(t-8)</th>\n",
       "      <th>var1(t-7)</th>\n",
       "      <th>var1(t-6)</th>\n",
       "      <th>var1(t-5)</th>\n",
       "      <th>var1(t-4)</th>\n",
       "      <th>var1(t-3)</th>\n",
       "      <th>var1(t-2)</th>\n",
       "      <th>var1(t-1)</th>\n",
       "      <th>var1(t)</th>\n",
       "    </tr>\n",
       "    <tr>\n",
       "      <th>data</th>\n",
       "      <th></th>\n",
       "      <th></th>\n",
       "      <th></th>\n",
       "      <th></th>\n",
       "      <th></th>\n",
       "      <th></th>\n",
       "      <th></th>\n",
       "      <th></th>\n",
       "      <th></th>\n",
       "      <th></th>\n",
       "      <th></th>\n",
       "      <th></th>\n",
       "      <th></th>\n",
       "      <th></th>\n",
       "      <th></th>\n",
       "      <th></th>\n",
       "      <th></th>\n",
       "      <th></th>\n",
       "      <th></th>\n",
       "      <th></th>\n",
       "      <th></th>\n",
       "    </tr>\n",
       "  </thead>\n",
       "  <tbody>\n",
       "    <tr>\n",
       "      <th>2014-01-21</th>\n",
       "      <td>3</td>\n",
       "      <td>1</td>\n",
       "      <td>0</td>\n",
       "      <td>0</td>\n",
       "      <td>0</td>\n",
       "      <td>11.766792</td>\n",
       "      <td>13.737225</td>\n",
       "      <td>12.842649</td>\n",
       "      <td>11.999663</td>\n",
       "      <td>12.244331</td>\n",
       "      <td>...</td>\n",
       "      <td>12.006401</td>\n",
       "      <td>13.763059</td>\n",
       "      <td>12.803259</td>\n",
       "      <td>13.580927</td>\n",
       "      <td>13.015001</td>\n",
       "      <td>13.646204</td>\n",
       "      <td>12.468245</td>\n",
       "      <td>11.832106</td>\n",
       "      <td>13.655635</td>\n",
       "      <td>13.017669</td>\n",
       "    </tr>\n",
       "    <tr>\n",
       "      <th>2014-01-22</th>\n",
       "      <td>3</td>\n",
       "      <td>2</td>\n",
       "      <td>0</td>\n",
       "      <td>0</td>\n",
       "      <td>0</td>\n",
       "      <td>13.737225</td>\n",
       "      <td>12.842649</td>\n",
       "      <td>11.999663</td>\n",
       "      <td>12.244331</td>\n",
       "      <td>13.778172</td>\n",
       "      <td>...</td>\n",
       "      <td>13.763059</td>\n",
       "      <td>12.803259</td>\n",
       "      <td>13.580927</td>\n",
       "      <td>13.015001</td>\n",
       "      <td>13.646204</td>\n",
       "      <td>12.468245</td>\n",
       "      <td>11.832106</td>\n",
       "      <td>13.655635</td>\n",
       "      <td>13.017669</td>\n",
       "      <td>13.660347</td>\n",
       "    </tr>\n",
       "    <tr>\n",
       "      <th>2014-01-23</th>\n",
       "      <td>3</td>\n",
       "      <td>3</td>\n",
       "      <td>0</td>\n",
       "      <td>0</td>\n",
       "      <td>0</td>\n",
       "      <td>12.842649</td>\n",
       "      <td>11.999663</td>\n",
       "      <td>12.244331</td>\n",
       "      <td>13.778172</td>\n",
       "      <td>12.552495</td>\n",
       "      <td>...</td>\n",
       "      <td>12.803259</td>\n",
       "      <td>13.580927</td>\n",
       "      <td>13.015001</td>\n",
       "      <td>13.646204</td>\n",
       "      <td>12.468245</td>\n",
       "      <td>11.832106</td>\n",
       "      <td>13.655635</td>\n",
       "      <td>13.017669</td>\n",
       "      <td>13.660347</td>\n",
       "      <td>13.050653</td>\n",
       "    </tr>\n",
       "    <tr>\n",
       "      <th>2014-01-24</th>\n",
       "      <td>3</td>\n",
       "      <td>4</td>\n",
       "      <td>0</td>\n",
       "      <td>0</td>\n",
       "      <td>0</td>\n",
       "      <td>11.999663</td>\n",
       "      <td>12.244331</td>\n",
       "      <td>13.778172</td>\n",
       "      <td>12.552495</td>\n",
       "      <td>13.580927</td>\n",
       "      <td>...</td>\n",
       "      <td>13.580927</td>\n",
       "      <td>13.015001</td>\n",
       "      <td>13.646204</td>\n",
       "      <td>12.468245</td>\n",
       "      <td>11.832106</td>\n",
       "      <td>13.655635</td>\n",
       "      <td>13.017669</td>\n",
       "      <td>13.660347</td>\n",
       "      <td>13.050653</td>\n",
       "      <td>13.646204</td>\n",
       "    </tr>\n",
       "    <tr>\n",
       "      <th>2014-01-25</th>\n",
       "      <td>3</td>\n",
       "      <td>5</td>\n",
       "      <td>1</td>\n",
       "      <td>0</td>\n",
       "      <td>0</td>\n",
       "      <td>12.244331</td>\n",
       "      <td>13.778172</td>\n",
       "      <td>12.552495</td>\n",
       "      <td>13.580927</td>\n",
       "      <td>12.874415</td>\n",
       "      <td>...</td>\n",
       "      <td>13.015001</td>\n",
       "      <td>13.646204</td>\n",
       "      <td>12.468245</td>\n",
       "      <td>11.832106</td>\n",
       "      <td>13.655635</td>\n",
       "      <td>13.017669</td>\n",
       "      <td>13.660347</td>\n",
       "      <td>13.050653</td>\n",
       "      <td>13.646204</td>\n",
       "      <td>12.850817</td>\n",
       "    </tr>\n",
       "  </tbody>\n",
       "</table>\n",
       "<p>5 rows × 26 columns</p>\n",
       "</div>"
      ],
      "text/plain": [
       "            count  week_number  weekday  is_quarter_end  holiday  var1(t-20)  \\\n",
       "data                                                                           \n",
       "2014-01-21      3            1        0               0        0   11.766792   \n",
       "2014-01-22      3            2        0               0        0   13.737225   \n",
       "2014-01-23      3            3        0               0        0   12.842649   \n",
       "2014-01-24      3            4        0               0        0   11.999663   \n",
       "2014-01-25      3            5        1               0        0   12.244331   \n",
       "\n",
       "            var1(t-19)  var1(t-18)  var1(t-17)  var1(t-16)    ...      \\\n",
       "data                                                          ...       \n",
       "2014-01-21   13.737225   12.842649   11.999663   12.244331    ...       \n",
       "2014-01-22   12.842649   11.999663   12.244331   13.778172    ...       \n",
       "2014-01-23   11.999663   12.244331   13.778172   12.552495    ...       \n",
       "2014-01-24   12.244331   13.778172   12.552495   13.580927    ...       \n",
       "2014-01-25   13.778172   12.552495   13.580927   12.874415    ...       \n",
       "\n",
       "            var1(t-9)  var1(t-8)  var1(t-7)  var1(t-6)  var1(t-5)  var1(t-4)  \\\n",
       "data                                                                           \n",
       "2014-01-21  12.006401  13.763059  12.803259  13.580927  13.015001  13.646204   \n",
       "2014-01-22  13.763059  12.803259  13.580927  13.015001  13.646204  12.468245   \n",
       "2014-01-23  12.803259  13.580927  13.015001  13.646204  12.468245  11.832106   \n",
       "2014-01-24  13.580927  13.015001  13.646204  12.468245  11.832106  13.655635   \n",
       "2014-01-25  13.015001  13.646204  12.468245  11.832106  13.655635  13.017669   \n",
       "\n",
       "            var1(t-3)  var1(t-2)  var1(t-1)    var1(t)  \n",
       "data                                                    \n",
       "2014-01-21  12.468245  11.832106  13.655635  13.017669  \n",
       "2014-01-22  11.832106  13.655635  13.017669  13.660347  \n",
       "2014-01-23  13.655635  13.017669  13.660347  13.050653  \n",
       "2014-01-24  13.017669  13.660347  13.050653  13.646204  \n",
       "2014-01-25  13.660347  13.050653  13.646204  12.850817  \n",
       "\n",
       "[5 rows x 26 columns]"
      ]
     },
     "execution_count": 41,
     "metadata": {},
     "output_type": "execute_result"
    }
   ],
   "source": [
    "# 导入之前清理完成的数据\n",
    "reframed = pd.read_csv('data/bank_after_clean_20_7529.csv', parse_dates = True, index_col=0)\n",
    "reframed.head(5)"
   ]
  },
  {
   "cell_type": "code",
   "execution_count": 42,
   "metadata": {},
   "outputs": [],
   "source": [
    "reframed = reframed[['count', 'week_number', 'weekday', 'var1(t-9)', \n",
    "                     'var1(t-7)', 'var1(t-5)', 'var1(t-2)', 'var1(t-1)','var1(t)']]\n",
    "# reframed = reframed[10:]"
   ]
  },
  {
   "cell_type": "code",
   "execution_count": 43,
   "metadata": {},
   "outputs": [],
   "source": [
    "values = reframed.values"
   ]
  },
  {
   "cell_type": "code",
   "execution_count": 44,
   "metadata": {},
   "outputs": [],
   "source": [
    "test = values[805:, :]\n",
    "true_y = test[:, -1]"
   ]
  },
  {
   "cell_type": "code",
   "execution_count": 45,
   "metadata": {},
   "outputs": [],
   "source": [
    "# 选取分割点，划分数据集为训练集和测试集，并把特征转换为3维\n",
    "def data_split(values,point):\n",
    "    train = values[:point, :]\n",
    "    test = values[point:, :]\n",
    "    train_X, train_y = train[:,:-1], train[:, -1]\n",
    "    test_X, test_y = test[:,:-1], test[:, -1]\n",
    "    train_X = train_X.reshape((train_X.shape[0],1,train_X.shape[1]))\n",
    "    test_X = test_X.reshape((test_X.shape[0],1,test_X.shape[1]))\n",
    "#     print(train_X.shape, test_X.shape, train_y.shape, test_y.shape)\n",
    "    return train_X,train_y,test_X,test_y"
   ]
  },
  {
   "cell_type": "code",
   "execution_count": 12,
   "metadata": {},
   "outputs": [],
   "source": [
    "# train = values[:805, :]\n",
    "# test = values[805:, :]\n",
    "# train_X, train_y = train[:,:-1], train[:, -1]\n",
    "# test_X, test_y = test[:,:-1], test[:, -1]"
   ]
  },
  {
   "cell_type": "code",
   "execution_count": 13,
   "metadata": {},
   "outputs": [],
   "source": [
    "# # 转换为3维\n",
    "# train_X = train_X.reshape((train_X.shape[0],1,train_X.shape[1]))\n",
    "# test_X = test_X.reshape((test_X.shape[0],1,test_X.shape[1]))"
   ]
  },
  {
   "cell_type": "code",
   "execution_count": 14,
   "metadata": {},
   "outputs": [],
   "source": [
    "# train_X.shape, test_X.shape, train_y.shape, test_y.shape"
   ]
  },
  {
   "cell_type": "code",
   "execution_count": 15,
   "metadata": {},
   "outputs": [],
   "source": [
    "# test_X[0].shape"
   ]
  },
  {
   "cell_type": "code",
   "execution_count": 49,
   "metadata": {},
   "outputs": [
    {
     "name": "stdout",
     "output_type": "stream",
     "text": [
      "12.4138631821\n"
     ]
    }
   ],
   "source": [
    "train_X,train_y,test_X,test_y = data_split(values,805+i)\n",
    "\n",
    "model = Sequential()\n",
    "model.add(LSTM(128, input_shape=(train_X.shape[1],train_X.shape[2]),\n",
    "               activation='relu',return_sequences=False))\n",
    "# model.add(Dropout(0.5))\n",
    "model.add(Dense(32,activation='relu',kernel_initializer='random_uniform',\n",
    "                bias_initializer='zeros'))\n",
    "# model.add(Dropout(0.5))\n",
    "# # model.add(LSTM(16,activation='relu',return_sequences=False))\n",
    "# model.add(Dense(16,kernel_initializer='random_uniform',\n",
    "#                 bias_initializer='zeros'))\n",
    "model.add(Dense(1))\n",
    "opt = keras.optimizers.RMSprop(lr=0.001, rho=0.9, epsilon=None, decay=0.0)\n",
    "model.compile(loss='mae',optimizer=opt)\n",
    "\n",
    "history = model.fit(train_X, train_y, epochs = 50, batch_size=64, \n",
    "                validation_data=(test_X, test_y),verbose = 0,shuffle=False)\n",
    "pre_next = float(model.predict(test_X[0].reshape((1,1,8))))\n",
    "print(pre_next)"
   ]
  },
  {
   "cell_type": "code",
   "execution_count": 50,
   "metadata": {},
   "outputs": [
    {
     "data": {
      "image/png": "[encoded data removed]",
      "text/plain": [
       "<matplotlib.figure.Figure at 0x7f07126f49d0>"
      ]
     },
     "metadata": {},
     "output_type": "display_data"
    }
   ],
   "source": [
    "from matplotlib import pyplot\n",
    "pyplot.plot(history.history['loss'], label='train')\n",
    "pyplot.plot(history.history['val_loss'], label='test')\n",
    "pyplot.legend()\n",
    "pyplot.show()"
   ]
  },
  {
   "cell_type": "code",
   "execution_count": null,
   "metadata": {},
   "outputs": [
    {
     "name": "stdout",
     "output_type": "stream",
     "text": [
      "12.4077453613\n",
      "13.3518619537\n",
      "12.5698204041\n",
      "12.161072731\n",
      "11.491399765\n",
      "11.786075592\n",
      "12.9908533096\n",
      "12.5269985199\n"
     ]
    }
   ],
   "source": [
    "# 滚动预测\n",
    "pre_list = []\n",
    "\n",
    "for i in range(277):\n",
    "    train_X,train_y,test_X,test_y = data_split(values,805+i)\n",
    "\n",
    "    model = Sequential()\n",
    "    model.add(LSTM(128, input_shape=(train_X.shape[1],train_X.shape[2]),\n",
    "                   activation='relu',return_sequences=False))\n",
    "    # model.add(Dropout(0.5))\n",
    "    model.add(Dense(32,activation='relu',kernel_initializer='random_uniform',\n",
    "                    bias_initializer='zeros'))\n",
    "    # model.add(Dropout(0.5))\n",
    "    # # model.add(LSTM(16,activation='relu',return_sequences=False))\n",
    "    # model.add(Dense(16,kernel_initializer='random_uniform',\n",
    "    #                 bias_initializer='zeros'))\n",
    "    model.add(Dense(1))\n",
    "    opt = keras.optimizers.RMSprop(lr=0.001, rho=0.9, epsilon=None, decay=0.0)\n",
    "    model.compile(loss='mae',optimizer=opt)\n",
    "\n",
    "    history = model.fit(train_X, train_y, epochs = 50, batch_size=64, \n",
    "                    validation_data=(test_X, test_y),verbose = 0,shuffle=False)\n",
    "    pre_next = float(model.predict(test_X[0].reshape((1,1,8))))\n",
    "    print(pre_next)\n",
    "    pre_list.append(pre_next)"
   ]
  },
  {
   "cell_type": "code",
   "execution_count": null,
   "metadata": {},
   "outputs": [],
   "source": [
    "pre_list"
   ]
  },
  {
   "cell_type": "code",
   "execution_count": 24,
   "metadata": {},
   "outputs": [
    {
     "ename": "AttributeError",
     "evalue": "'list' object has no attribute 'tolist'",
     "output_type": "error",
     "traceback": [
      "\u001b[0;31m\u001b[0m",
      "\u001b[0;31mAttributeError\u001b[0mTraceback (most recent call last)",
      "\u001b[0;32m<ipython-input-24-1faa62ef968c>\u001b[0m in \u001b[0;36m<module>\u001b[0;34m()\u001b[0m\n\u001b[0;32m----> 1\u001b[0;31m \u001b[0mpre_list\u001b[0m \u001b[0;34m=\u001b[0m \u001b[0mpre_list\u001b[0m\u001b[0;34m.\u001b[0m\u001b[0mtolist\u001b[0m\u001b[0;34m(\u001b[0m\u001b[0;34m)\u001b[0m\u001b[0;34m\u001b[0m\u001b[0m\n\u001b[0m\u001b[1;32m      2\u001b[0m \u001b[0mtrue_list\u001b[0m \u001b[0;34m=\u001b[0m \u001b[0mtrue_y\u001b[0m\u001b[0;34m.\u001b[0m\u001b[0mtolist\u001b[0m\u001b[0;34m(\u001b[0m\u001b[0;34m)\u001b[0m\u001b[0;34m\u001b[0m\u001b[0m\n",
      "\u001b[0;31mAttributeError\u001b[0m: 'list' object has no attribute 'tolist'"
     ]
    }
   ],
   "source": [
    "pre_list = pre_list.tolist()\n",
    "true_list = true_y.tolist()"
   ]
  },
  {
   "cell_type": "code",
   "execution_count": null,
   "metadata": {},
   "outputs": [],
   "source": [
    "len(prediction), len(true_y)"
   ]
  },
  {
   "cell_type": "code",
   "execution_count": null,
   "metadata": {},
   "outputs": [],
   "source": [
    "pre_list[:10]"
   ]
  },
  {
   "cell_type": "code",
   "execution_count": null,
   "metadata": {},
   "outputs": [],
   "source": [
    "true_list[:10]"
   ]
  },
  {
   "cell_type": "code",
   "execution_count": null,
   "metadata": {},
   "outputs": [],
   "source": [
    "restore_pre = restore_log(pre_list)\n",
    "\n",
    "restore_true = restore_log(true_list)"
   ]
  },
  {
   "cell_type": "code",
   "execution_count": null,
   "metadata": {},
   "outputs": [],
   "source": [
    "plt.plot(restore_pre[:100])\n",
    "plt.plot(restore_true[:100], color='red')\n",
    "plt.show()"
   ]
  },
  {
   "cell_type": "code",
   "execution_count": null,
   "metadata": {},
   "outputs": [],
   "source": [
    "# 计算误差\n",
    "error = sum(list(map(lambda x:abs(abs(x[0] - x[1])/(x[1])), zip(restore_pre,restore_true))))\n",
    "print('误差：%.2f%%'%float((error/len(restore_true))*100))"
   ]
  },
  {
   "cell_type": "code",
   "execution_count": null,
   "metadata": {},
   "outputs": [],
   "source": [
    "# 覆盖率计算，预测值大于真实值\n",
    "count = 0\n",
    "for i in range(len(log_recover1)):\n",
    "    if log_recover1[i] > original_ts[i]:\n",
    "        count += 1\n",
    "ratio = count*1.0/len(log_recover1)\n",
    "print(\"覆盖率为：%.2f%%\"% (ratio*100))"
   ]
  },
  {
   "cell_type": "code",
   "execution_count": null,
   "metadata": {},
   "outputs": [],
   "source": [
    "# 计算有 多少比例 的数据误差在 20.00% 之内\n",
    "Percentageratio,per = calc_with_err_per(log_recover1,original_ts,0.2)\n",
    "print('有 %.2f%% 的数据误差在 %.2f%% 之内'% (Percentageratio*100,per*100))"
   ]
  },
  {
   "cell_type": "code",
   "execution_count": null,
   "metadata": {},
   "outputs": [],
   "source": []
  },
  {
   "cell_type": "code",
   "execution_count": null,
   "metadata": {},
   "outputs": [],
   "source": []
  },
  {
   "cell_type": "code",
   "execution_count": null,
   "metadata": {},
   "outputs": [],
   "source": [
    "restore_pre = []\n",
    "# restore_pre.append(-3.5254192 + pre_list_svr[0])\n",
    "for i in range(len(pre_list)):\n",
    "    true = pre_list[i] + before_diff[i]\n",
    "    restore_pre.append(true)\n",
    "print(restore_pre[:10])"
   ]
  },
  {
   "cell_type": "markdown",
   "metadata": {},
   "source": [
    "对真实值还原，再与data[805:], 验证还原原始数据正确"
   ]
  },
  {
   "cell_type": "code",
   "execution_count": null,
   "metadata": {},
   "outputs": [],
   "source": [
    "restore_true = []\n",
    "for i in range(len(true_list)):\n",
    "    true = true_list[i] + before_diff[i]\n",
    "    restore_true.append(true)\n",
    "print(restore_true[:10])"
   ]
  },
  {
   "cell_type": "code",
   "execution_count": null,
   "metadata": {},
   "outputs": [],
   "source": [
    "data[805:][:10]"
   ]
  },
  {
   "cell_type": "markdown",
   "metadata": {},
   "source": [
    "画出还原后的数据的真实值和预测值图像"
   ]
  },
  {
   "cell_type": "code",
   "execution_count": null,
   "metadata": {},
   "outputs": [],
   "source": [
    "# 发现好多预测值小于0，对于小于0的数据用5代替\n",
    "for i in range(len(restore_pre)):\n",
    "    if restore_pre[i] < 0:\n",
    "        restore_pre[i] = 5"
   ]
  },
  {
   "cell_type": "code",
   "execution_count": null,
   "metadata": {},
   "outputs": [],
   "source": [
    "plt.plot(restore_true[:100])\n",
    "plt.plot(restore_pre[:100], color='red')\n",
    "plt.show()"
   ]
  },
  {
   "cell_type": "code",
   "execution_count": null,
   "metadata": {},
   "outputs": [],
   "source": [
    "# 误差定义\n",
    "error = sum(list(map(lambda x:abs(abs(x[0] - x[1])/(x[1])), zip(restore_pre,restore_true))))\n",
    "# error = sum(list(map(lambda x: x[0]-x[1], zip(pre_list,true_list))))\n",
    "print('error',float((error/len(restore_pre))*100),'%')"
   ]
  },
  {
   "cell_type": "code",
   "execution_count": null,
   "metadata": {},
   "outputs": [],
   "source": [
    "# 覆盖率计算\n",
    "count = 0\n",
    "for i in range(len(restore_pre)):\n",
    "    if restore_pre[i] > restore_true[i]:\n",
    "        count += 1\n",
    "ratio = count*1.0/len(restore_pre)\n",
    "print(\"覆盖率为： %.4f\"% ratio)"
   ]
  },
  {
   "cell_type": "code",
   "execution_count": null,
   "metadata": {},
   "outputs": [],
   "source": []
  }
 ],
 "metadata": {
  "kernelspec": {
   "display_name": "Python 2",
   "language": "python",
   "name": "python2"
  },
  "language_info": {
   "codemirror_mode": {
    "name": "ipython",
    "version": 2
   },
   "file_extension": ".py",
   "mimetype": "text/x-python",
   "name": "python",
   "nbconvert_exporter": "python",
   "pygments_lexer": "ipython2",
   "version": "2.7.15"
  }
 },
 "nbformat": 4,
 "nbformat_minor": 2
}
